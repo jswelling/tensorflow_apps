{
 "cells": [
  {
   "cell_type": "code",
   "execution_count": 1,
   "metadata": {},
   "outputs": [],
   "source": [
    "import sys\n",
    "import os\n",
    "import shutil\n",
    "import numpy as np\n",
    "import yaml\n",
    "sys.path.append('/home/welling/git/tensorflow_apps/src')\n",
    "from brainroller.traceneighbors import UsefulVtx\n",
    "from brainroller.writegeom import writeVtkPolypoints\n",
    "from cnn.constants import RAD_PIXELS\n",
    "import spilltree3D"
   ]
  },
  {
   "cell_type": "code",
   "execution_count": 2,
   "metadata": {},
   "outputs": [],
   "source": [
    "traceFile = '/tmp/useful_trace_neighborhoods.pkl'\n",
    "skipFile = '/tmp/skips.txt'\n"
   ]
  },
  {
   "cell_type": "code",
   "execution_count": 3,
   "metadata": {},
   "outputs": [
    {
     "name": "stdout",
     "output_type": "stream",
     "text": [
      "Help on class UsefulVtx in module brainroller.traceneighbors:\n",
      "\n",
      "class UsefulVtx(Vtx)\n",
      " |  UsefulVtx(vId, objId, parent, x, y, z, nbrCt=0)\n",
      " |  \n",
      " |  Method resolution order:\n",
      " |      UsefulVtx\n",
      " |      Vtx\n",
      " |      builtins.object\n",
      " |  \n",
      " |  Methods defined here:\n",
      " |  \n",
      " |  __init__(self, vId, objId, parent, x, y, z, nbrCt=0)\n",
      " |      Initialize self.  See help(type(self)) for accurate signature.\n",
      " |  \n",
      " |  addEdge(self, xyzTuple)\n",
      " |  \n",
      " |  ----------------------------------------------------------------------\n",
      " |  Class methods defined here:\n",
      " |  \n",
      " |  fromVtx(vtx, nbrCt) from builtins.type\n",
      " |  \n",
      " |  load(pklF, maxSlice, skipF) from builtins.type\n",
      " |  \n",
      " |  ----------------------------------------------------------------------\n",
      " |  Methods inherited from Vtx:\n",
      " |  \n",
      " |  addChild(self, vtxId)\n",
      " |  \n",
      " |  copyNoKids(self)\n",
      " |  \n",
      " |  getLoc(self)\n",
      " |      For the benefit of the Spilltree module, which expects points to have\n",
      " |      a getLoc method.\n",
      " |  \n",
      " |  setSkipTable(self, tbl)\n",
      " |  \n",
      " |  ----------------------------------------------------------------------\n",
      " |  Data descriptors inherited from Vtx:\n",
      " |  \n",
      " |  __dict__\n",
      " |      dictionary for instance variables (if defined)\n",
      " |  \n",
      " |  __weakref__\n",
      " |      list of weak references to the object (if defined)\n",
      " |  \n",
      " |  realCoords\n",
      " |  \n",
      " |  x\n",
      " |  \n",
      " |  y\n",
      " |  \n",
      " |  z\n",
      "\n"
     ]
    }
   ],
   "source": [
    "help(UsefulVtx)"
   ]
  },
  {
   "cell_type": "code",
   "execution_count": 4,
   "metadata": {},
   "outputs": [],
   "source": [
    "with open(traceFile, 'rb') as pklF:\n",
    "    with open(skipFile, 'rb') as skipF:\n",
    "        usefulVtxDict = UsefulVtx.load(pklF, 10000, skipF)\n"
   ]
  },
  {
   "cell_type": "code",
   "execution_count": 5,
   "metadata": {},
   "outputs": [],
   "source": [
    "spT = spilltree3D.SpTree(usefulVtxDict.values())\n"
   ]
  },
  {
   "cell_type": "code",
   "execution_count": 6,
   "metadata": {},
   "outputs": [],
   "source": [
    "assert spT.getNDim() == 3, 'spilltree3D was compiled incorrectly'"
   ]
  },
  {
   "cell_type": "code",
   "execution_count": 7,
   "metadata": {},
   "outputs": [],
   "source": [
    "fishCoreXSize = 1024\n",
    "fishCoreYSize = 1024\n",
    "fishCoreZSize = 4900\n",
    "fishCoreXOffset = 4750. - (fishCoreXSize/2)\n",
    "fishCoreYOffset = 2150. - (fishCoreYSize/2)\n",
    "fishCoreZOffset = 4000\n",
    "\n",
    "fishCoreBlockSize = 1024  # how many Z slices to actually load\n",
    "\n",
    "scan_sz_V = np.asarray([41., 41., 41.])"
   ]
  },
  {
   "cell_type": "code",
   "execution_count": 8,
   "metadata": {},
   "outputs": [],
   "source": [
    "root_dir = '/home/welling/sshfshook'\n",
    "#fish_cube_dir = 'pylon2_rescue/fish_cube_links'\n",
    "fish_cube_dir = 'fish_cube_links'\n",
    "output_root = '/home/welling/git/tensorflow_apps/src/joel'"
   ]
  },
  {
   "cell_type": "code",
   "execution_count": 9,
   "metadata": {},
   "outputs": [],
   "source": [
    "def write_all_verts_vtk(fname, sample_id, ctrCoords, usefulVtxDict, spill_tree, scan_sz_V, offsetV):\n",
    "    if sample_id is None:\n",
    "        ctrX, ctrY, ctrZ = ctrCoords\n",
    "        ctrVtx = UsefulVtx(None, None, None, ctrX, ctrY, ctrZ)\n",
    "    else:\n",
    "        ctrVtx = usefulVtxDict[sample_id]\n",
    "    max_sum_sqr = 0.25 * np.sum(scan_sz_V * scan_sz_V)\n",
    "    sameObjLocL = []\n",
    "    allLocL = []\n",
    "    for uv, sepsqr in spill_tree.findApproxKNearest(1000, ctrVtx):\n",
    "        allLocL.append(uv)\n",
    "        if uv.objId == ctrVtx.objId:\n",
    "            sameObjLocL.append(uv)\n",
    "        if sepsqr > max_sum_sqr:\n",
    "            break\n",
    "    else:\n",
    "        raise RuntimeError('More than 1000 verts in range!')\n",
    "    print('%d nearby verts, %d in same object' % (len(allLocL), len(sameObjLocL)))\n",
    "    realV = np.asarray(ctrVtx.realCoords)\n",
    "    lclV = realV - offsetV\n",
    "\n",
    "    x_off, y_off, z_off = offsetV + lclV\n",
    "    shift1 = [-x_off, -y_off, -z_off]\n",
    "    x2_off, y2_off, z2_off = - 0.5 * scan_sz_V\n",
    "    shift2 = [-x2_off, -y2_off, -z2_off]\n",
    "    writeVtkPolypoints(fname, allLocL, shift1=shift1, shift2=shift2, sig=[1.0, -1.0, 1.0])\n",
    "\n",
    "def test_calcs(sample_id, empty=False):\n",
    "    if empty:\n",
    "        with open(os.path.join(root_dir, fish_cube_dir, 'empty_41_%d.yaml' % sample_id)) as f:\n",
    "            infoD = yaml.safe_load(f)\n",
    "    else:\n",
    "        with open(os.path.join(root_dir, fish_cube_dir, 'block_41_%d.yaml' % sample_id)) as f:\n",
    "            infoD = yaml.safe_load(f)\n",
    "    ctrCoords = np.asarray(infoD['realCoords'])\n",
    "    offsetV = np.asarray([int(np.floor(v)) for v in [fishCoreXOffset, fishCoreYOffset, fishCoreZOffset]])\n",
    "    scanCoords = (ctrCoords - offsetV) - np.floor(0.5 * scan_sz_V)\n",
    "\n",
    "    # Walk forward through the full dataset as necessary to get the target into the loaded part of the data\n",
    "    nSkip = 0\n",
    "    stepZ = fishCoreBlockSize // 2\n",
    "    while (scanCoords[2] - nSkip) + scan_sz_V[2] > fishCoreBlockSize:\n",
    "        nSkip += stepZ\n",
    "    scanCoords[2] -= nSkip\n",
    "\n",
    "    print('SCAN CONTROL PARAMETERS:')\n",
    "    print('--data_block_dims=%d,%d,%d' % (fishCoreXSize, fishCoreYSize, fishCoreBlockSize))\n",
    "    print('--data_block_offset=%d' % (nSkip * fishCoreXSize * fishCoreYSize))\n",
    "    print('--scan_start=%s' % ','.join([str(int(v)) for v in np.floor(scanCoords)]))\n",
    "    print('--scan_size=%s' % ','.join([str(int(v)) for v in scan_sz_V]))\n",
    "    rslt_dir = os.path.join(output_root, 'test_%d' % sample_id)\n",
    "    os.makedirs(rslt_dir, exist_ok=True)\n",
    "    print('WRITING DATA TO: %s' % rslt_dir)\n",
    "    for fname in infoD['bovFiles'] + [infoD['traceFile']]:\n",
    "        shutil.copy(os.path.join(root_dir, fish_cube_dir, fname), rslt_dir)\n",
    "    if empty:\n",
    "        write_all_verts_vtk(os.path.join(rslt_dir, 'known_verts_%d.vtk' % sample_id),\n",
    "                            None, ctrCoords, usefulVtxDict, spT, scan_sz_V, offsetV)\n",
    "    else:\n",
    "        write_all_verts_vtk(os.path.join(rslt_dir, 'known_verts_%d.vtk' % sample_id),\n",
    "                            sample_id, ctrCoords, usefulVtxDict, spT, scan_sz_V, offsetV)\n",
    "    print('\\n')"
   ]
  },
  {
   "cell_type": "code",
   "execution_count": 10,
   "metadata": {},
   "outputs": [
    {
     "name": "stdout",
     "output_type": "stream",
     "text": [
      "offset_V:  [4238 1638 4000]\n",
      "corrected offset_V:  [4238 1638 6500]\n",
      "real_start_V:  [4622 2022 6532]\n",
      "llfCoords:  [4622 2022 6532]\n",
      "trbCoords:  [4878 2278 6660]\n",
      "offsetV:  [4238 1638 6500]\n",
      "lclV: [512. 512.  96.]\n",
      "including 6536 points\n",
      "shift1:  [-4750.0, -2150.0, -6596.0]\n",
      "shift2:  [128.0, 128.0, 64.0]\n"
     ]
    }
   ],
   "source": [
    "def write_blk_verts_vtk(fname, llfCoords, trbCoords, usefulVtxDict, offsetV):   \n",
    "    lclV = 0.5*(trbCoords + llfCoords) - offsetV\n",
    "    scan_sz_V = trbCoords - llfCoords\n",
    "    print('llfCoords: ', llfCoords)\n",
    "    print('trbCoords: ', trbCoords)\n",
    "    print('offsetV: ', offsetV)\n",
    "    print('lclV:', lclV)\n",
    "    \n",
    "    allLocL = []\n",
    "    count = 0\n",
    "    for ub in usefulVtxDict.values():\n",
    "        if np.all(ub.realCoords >= llfCoords) and np.all(ub.realCoords <= trbCoords):\n",
    "            #print(ub.realCoords, ub.objId)\n",
    "            allLocL.append(ub)\n",
    "            count += 1\n",
    "    print('including {} points'.format(count))\n",
    "\n",
    "    x_off, y_off, z_off = offsetV + lclV\n",
    "    shift1 = [-x_off, -y_off, -z_off]\n",
    "    x2_off, y2_off, z2_off = - 0.5 * scan_sz_V\n",
    "    shift2 = [-x2_off, -y2_off, -z2_off]\n",
    "    print('shift1: ', shift1)\n",
    "    print('shift2: ', shift2)\n",
    "    writeVtkPolypoints(fname, allLocL, shift1=shift1, shift2=shift2, sig=[1.0, -1.0, 1.0])\n",
    "\n",
    "def test_blk_calcs(blockOffset, scanStartTpl, scanSzTpl):\n",
    "    scan_sz_V = np.asarray(scanSzTpl)\n",
    "    scan_start_V = np.asarray(scanStartTpl)\n",
    "    scan_ctr_V = scan_start_V + 0.5 * scan_sz_V\n",
    "    #ctrCoords = np.asarray(infoD['realCoords'])\n",
    "    offset_V = np.asarray([int(np.floor(v)) for v in [fishCoreXOffset, fishCoreYOffset, fishCoreZOffset]])\n",
    "    print('offset_V: ', offset_V)\n",
    "    offset_V += np.asarray([0, 0, blockOffset//(fishCoreXSize * fishCoreYSize)])\n",
    "    print('corrected offset_V: ', offset_V)\n",
    "    real_start_V = scan_start_V + offset_V\n",
    "    print('real_start_V: ', real_start_V)\n",
    "    write_blk_verts_vtk(os.path.join(output_root, 'test_verts.vtk'),\n",
    "                        real_start_V, real_start_V + scan_sz_V, usefulVtxDict,\n",
    "                        offset_V)\n",
    "\n",
    "test_blk_calcs(2621440000, (384,384,32), (256,256,128))"
   ]
  },
  {
   "cell_type": "code",
   "execution_count": 11,
   "metadata": {},
   "outputs": [
    {
     "ename": "FileNotFoundError",
     "evalue": "[Errno 2] No such file or directory: '/home/welling/sshfshook/fish_cube_links/block_41_1010391.yaml'",
     "output_type": "error",
     "traceback": [
      "\u001b[0;31m---------------------------------------------------------------------------\u001b[0m",
      "\u001b[0;31mFileNotFoundError\u001b[0m                         Traceback (most recent call last)",
      "\u001b[0;32m<ipython-input-11-f2fa1cb81b23>\u001b[0m in \u001b[0;36m<module>\u001b[0;34m\u001b[0m\n\u001b[0;32m----> 1\u001b[0;31m \u001b[0mtest_calcs\u001b[0m\u001b[0;34m(\u001b[0m\u001b[0;36m1010391\u001b[0m\u001b[0;34m)\u001b[0m\u001b[0;34m\u001b[0m\u001b[0;34m\u001b[0m\u001b[0m\n\u001b[0m\u001b[1;32m      2\u001b[0m \u001b[0;31m#test_calcs(994, empty=True)\u001b[0m\u001b[0;34m\u001b[0m\u001b[0;34m\u001b[0m\u001b[0;34m\u001b[0m\u001b[0m\n\u001b[1;32m      3\u001b[0m \u001b[0;31m#test_calcs(983792)\u001b[0m\u001b[0;34m\u001b[0m\u001b[0;34m\u001b[0m\u001b[0;34m\u001b[0m\u001b[0m\n\u001b[1;32m      4\u001b[0m \u001b[0;31m#test_calcs(2453393)\u001b[0m\u001b[0;34m\u001b[0m\u001b[0;34m\u001b[0m\u001b[0;34m\u001b[0m\u001b[0m\n\u001b[1;32m      5\u001b[0m \u001b[0;34m\u001b[0m\u001b[0m\n",
      "\u001b[0;32m<ipython-input-9-f4faf0211d36>\u001b[0m in \u001b[0;36mtest_calcs\u001b[0;34m(sample_id, empty)\u001b[0m\n\u001b[1;32m     31\u001b[0m             \u001b[0minfoD\u001b[0m \u001b[0;34m=\u001b[0m \u001b[0myaml\u001b[0m\u001b[0;34m.\u001b[0m\u001b[0msafe_load\u001b[0m\u001b[0;34m(\u001b[0m\u001b[0mf\u001b[0m\u001b[0;34m)\u001b[0m\u001b[0;34m\u001b[0m\u001b[0;34m\u001b[0m\u001b[0m\n\u001b[1;32m     32\u001b[0m     \u001b[0;32melse\u001b[0m\u001b[0;34m:\u001b[0m\u001b[0;34m\u001b[0m\u001b[0;34m\u001b[0m\u001b[0m\n\u001b[0;32m---> 33\u001b[0;31m         \u001b[0;32mwith\u001b[0m \u001b[0mopen\u001b[0m\u001b[0;34m(\u001b[0m\u001b[0mos\u001b[0m\u001b[0;34m.\u001b[0m\u001b[0mpath\u001b[0m\u001b[0;34m.\u001b[0m\u001b[0mjoin\u001b[0m\u001b[0;34m(\u001b[0m\u001b[0mroot_dir\u001b[0m\u001b[0;34m,\u001b[0m \u001b[0mfish_cube_dir\u001b[0m\u001b[0;34m,\u001b[0m \u001b[0;34m'block_41_%d.yaml'\u001b[0m \u001b[0;34m%\u001b[0m \u001b[0msample_id\u001b[0m\u001b[0;34m)\u001b[0m\u001b[0;34m)\u001b[0m \u001b[0;32mas\u001b[0m \u001b[0mf\u001b[0m\u001b[0;34m:\u001b[0m\u001b[0;34m\u001b[0m\u001b[0;34m\u001b[0m\u001b[0m\n\u001b[0m\u001b[1;32m     34\u001b[0m             \u001b[0minfoD\u001b[0m \u001b[0;34m=\u001b[0m \u001b[0myaml\u001b[0m\u001b[0;34m.\u001b[0m\u001b[0msafe_load\u001b[0m\u001b[0;34m(\u001b[0m\u001b[0mf\u001b[0m\u001b[0;34m)\u001b[0m\u001b[0;34m\u001b[0m\u001b[0;34m\u001b[0m\u001b[0m\n\u001b[1;32m     35\u001b[0m     \u001b[0mctrCoords\u001b[0m \u001b[0;34m=\u001b[0m \u001b[0mnp\u001b[0m\u001b[0;34m.\u001b[0m\u001b[0masarray\u001b[0m\u001b[0;34m(\u001b[0m\u001b[0minfoD\u001b[0m\u001b[0;34m[\u001b[0m\u001b[0;34m'realCoords'\u001b[0m\u001b[0;34m]\u001b[0m\u001b[0;34m)\u001b[0m\u001b[0;34m\u001b[0m\u001b[0;34m\u001b[0m\u001b[0m\n",
      "\u001b[0;31mFileNotFoundError\u001b[0m: [Errno 2] No such file or directory: '/home/welling/sshfshook/fish_cube_links/block_41_1010391.yaml'"
     ]
    }
   ],
   "source": [
    "test_calcs(1010391)\n",
    "#test_calcs(994, empty=True)\n",
    "#test_calcs(983792)\n",
    "#test_calcs(2453393)\n",
    "  "
   ]
  },
  {
   "cell_type": "markdown",
   "metadata": {},
   "source": [
    "```\n",
    "'absCoords': [4635.3, 1936.44, 5321.0], \n",
    "'realCoords': [4635.3, 1936.44, 5285.0],\n",
    "--data_block_dims=1024,1024,1024\n",
    "--data_block_offset=536870912\n",
    "--scan_start=377,278,753\n",
    "--scan_size=41,41,41\n",
    "WRITING DATA TO: /home/welling/git/tensorflow_apps/src/joel/test_1010391\n",
    "192 nearby verts, 20 in same object\n",
    "```"
   ]
  },
  {
   "cell_type": "code",
   "execution_count": null,
   "metadata": {},
   "outputs": [],
   "source": [
    "help(UsefulVtx)"
   ]
  },
  {
   "cell_type": "code",
   "execution_count": null,
   "metadata": {},
   "outputs": [],
   "source": []
  }
 ],
 "metadata": {
  "kernelspec": {
   "display_name": "Python 3 (py3Env)",
   "language": "python",
   "name": "py3env"
  },
  "language_info": {
   "codemirror_mode": {
    "name": "ipython",
    "version": 3
   },
   "file_extension": ".py",
   "mimetype": "text/x-python",
   "name": "python",
   "nbconvert_exporter": "python",
   "pygments_lexer": "ipython3",
   "version": "3.7.3"
  }
 },
 "nbformat": 4,
 "nbformat_minor": 2
}

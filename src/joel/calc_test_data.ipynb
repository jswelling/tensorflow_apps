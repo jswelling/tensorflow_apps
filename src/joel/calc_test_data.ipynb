{
 "cells": [
  {
   "cell_type": "code",
   "execution_count": null,
   "metadata": {},
   "outputs": [],
   "source": [
    "import sys\n",
    "import os\n",
    "import shutil\n",
    "import numpy as np\n",
    "import yaml\n",
    "sys.path.append('/home/welling/git/tensorflow_apps/src')\n",
    "from brainroller.traceneighbors import UsefulVtx\n",
    "from brainroller.writegeom import writeVtkPolypoints\n",
    "from cnn.constants import RAD_PIXELS\n",
    "import spilltree3D\n",
    "import pandas as pd\n",
    "import pickle"
   ]
  },
  {
   "cell_type": "code",
   "execution_count": null,
   "metadata": {},
   "outputs": [],
   "source": [
    "traceFile = '/tmp/useful_trace_neighborhoods.pkl'\n",
    "skipFile = '/tmp/skips.txt'\n"
   ]
  },
  {
   "cell_type": "code",
   "execution_count": null,
   "metadata": {},
   "outputs": [],
   "source": [
    "help(UsefulVtx)"
   ]
  },
  {
   "cell_type": "code",
   "execution_count": null,
   "metadata": {},
   "outputs": [],
   "source": [
    "with open(traceFile, 'rb') as pklF:\n",
    "    with open(skipFile, 'rb') as skipF:\n",
    "        usefulVtxDict = UsefulVtx.load(pklF, 10000, skipF)\n"
   ]
  },
  {
   "cell_type": "code",
   "execution_count": null,
   "metadata": {},
   "outputs": [],
   "source": [
    "spT = spilltree3D.SpTree(usefulVtxDict.values())\n"
   ]
  },
  {
   "cell_type": "code",
   "execution_count": null,
   "metadata": {},
   "outputs": [],
   "source": [
    "assert spT.getNDim() == 3, 'spilltree3D was compiled incorrectly'"
   ]
  },
  {
   "cell_type": "code",
   "execution_count": null,
   "metadata": {},
   "outputs": [],
   "source": [
    "fishCoreXSize = 1024\n",
    "fishCoreYSize = 1024\n",
    "fishCoreZSize = 4900\n",
    "fishCoreXOffset = 4750. - (fishCoreXSize/2)\n",
    "fishCoreYOffset = 2150. - (fishCoreYSize/2)\n",
    "fishCoreZOffset = 4000\n",
    "\n",
    "fishCoreBlockSize = 1024  # how many Z slices to actually load\n",
    "\n",
    "scan_sz_V = np.asarray([41., 41., 41.])"
   ]
  },
  {
   "cell_type": "code",
   "execution_count": null,
   "metadata": {},
   "outputs": [],
   "source": [
    "root_dir = '/home/welling/sshfshook'\n",
    "#fish_cube_dir = 'pylon2_rescue/fish_cube_links'\n",
    "fish_cube_dir = 'fish_cube_links'\n",
    "output_root = '/home/welling/git/tensorflow_apps/src/joel'"
   ]
  },
  {
   "cell_type": "code",
   "execution_count": null,
   "metadata": {},
   "outputs": [],
   "source": [
    "def write_all_verts_vtk(fname, sample_id, ctrCoords, usefulVtxDict, spill_tree, scan_sz_V, offsetV):\n",
    "    if sample_id is None:\n",
    "        ctrX, ctrY, ctrZ = ctrCoords\n",
    "        ctrVtx = UsefulVtx(None, None, None, ctrX, ctrY, ctrZ)\n",
    "    else:\n",
    "        ctrVtx = usefulVtxDict[sample_id]\n",
    "    max_sum_sqr = 0.25 * np.sum(scan_sz_V * scan_sz_V)\n",
    "    sameObjLocL = []\n",
    "    allLocL = []\n",
    "    for uv, sepsqr in spill_tree.findApproxKNearest(1000, ctrVtx):\n",
    "        allLocL.append(uv)\n",
    "        if uv.objId == ctrVtx.objId:\n",
    "            sameObjLocL.append(uv)\n",
    "        if sepsqr > max_sum_sqr:\n",
    "            break\n",
    "    else:\n",
    "        raise RuntimeError('More than 1000 verts in range!')\n",
    "    print('%d nearby verts, %d in same object' % (len(allLocL), len(sameObjLocL)))\n",
    "    realV = np.asarray(ctrVtx.realCoords)\n",
    "    lclV = realV - offsetV\n",
    "\n",
    "    x_off, y_off, z_off = offsetV + lclV\n",
    "    shift1 = [-x_off, -y_off, -z_off]\n",
    "    x2_off, y2_off, z2_off = - 0.5 * scan_sz_V\n",
    "    shift2 = [-x2_off, -y2_off, -z2_off]\n",
    "    writeVtkPolypoints(fname, allLocL, shift1=shift1, shift2=shift2, sig=[1.0, -1.0, 1.0])\n",
    "\n",
    "def test_calcs(sample_id, empty=False):\n",
    "    if empty:\n",
    "        with open(os.path.join(root_dir, fish_cube_dir, 'empty_41_%d.yaml' % sample_id)) as f:\n",
    "            infoD = yaml.safe_load(f)\n",
    "    else:\n",
    "        with open(os.path.join(root_dir, fish_cube_dir, 'block_41_%d.yaml' % sample_id)) as f:\n",
    "            infoD = yaml.safe_load(f)\n",
    "    ctrCoords = np.asarray(infoD['realCoords'])\n",
    "    print('ctrCoords: ', ctrCoords)\n",
    "    offsetV = np.asarray([int(np.floor(v)) for v in [fishCoreXOffset, fishCoreYOffset, fishCoreZOffset]])\n",
    "    scanCoords = (ctrCoords - offsetV) - np.floor(0.5 * scan_sz_V)\n",
    "\n",
    "    # Walk forward through the full dataset as necessary to get the target into the loaded part of the data\n",
    "    nSkip = 0\n",
    "    stepZ = fishCoreBlockSize // 2\n",
    "    while (scanCoords[2] - nSkip) + scan_sz_V[2] > fishCoreBlockSize:\n",
    "        nSkip += stepZ\n",
    "    scanCoords[2] -= nSkip\n",
    "\n",
    "    print('SCAN CONTROL PARAMETERS:')\n",
    "    print('--data_block_dims=%d,%d,%d' % (fishCoreXSize, fishCoreYSize, fishCoreBlockSize))\n",
    "    print('--data_block_offset=%d' % (nSkip * fishCoreXSize * fishCoreYSize))\n",
    "    print('--scan_start=%s' % ','.join([str(int(v)) for v in np.floor(scanCoords)]))\n",
    "    print('--scan_size=%s' % ','.join([str(int(v)) for v in scan_sz_V]))\n",
    "    rslt_dir = os.path.join(output_root, 'test_%d' % sample_id)\n",
    "    os.makedirs(rslt_dir, exist_ok=True)\n",
    "    print('WRITING DATA TO: %s' % rslt_dir)\n",
    "    for fname in infoD['bovFiles'] + [infoD['traceFile']]:\n",
    "        shutil.copy(os.path.join(root_dir, fish_cube_dir, fname), rslt_dir)\n",
    "    if empty:\n",
    "        write_all_verts_vtk(os.path.join(rslt_dir, 'known_verts_%d.vtk' % sample_id),\n",
    "                            None, ctrCoords, usefulVtxDict, spT, scan_sz_V, offsetV)\n",
    "    else:\n",
    "        write_all_verts_vtk(os.path.join(rslt_dir, 'known_verts_%d.vtk' % sample_id),\n",
    "                            sample_id, ctrCoords, usefulVtxDict, spT, scan_sz_V, offsetV)\n",
    "    print('\\n')"
   ]
  },
  {
   "cell_type": "code",
   "execution_count": null,
   "metadata": {},
   "outputs": [],
   "source": [
    "def write_blk_verts_vtk(fname, llfCoords, trbCoords, usefulVtxDict, offsetV):   \n",
    "    lclV = 0.5*(trbCoords + llfCoords) - offsetV\n",
    "    scan_sz_V = trbCoords - llfCoords\n",
    "    print('llfCoords: ', llfCoords)\n",
    "    print('trbCoords: ', trbCoords)\n",
    "    print('offsetV: ', offsetV)\n",
    "    print('lclV:', lclV)\n",
    "    \n",
    "    allLocL = []\n",
    "    count = 0\n",
    "    for ub in usefulVtxDict.values():\n",
    "        if np.all(ub.realCoords >= llfCoords) and np.all(ub.realCoords <= trbCoords):\n",
    "            #print(ub.realCoords, ub.objId)\n",
    "            allLocL.append(ub)\n",
    "            count += 1\n",
    "    print('including {} points'.format(count))\n",
    "\n",
    "    x_off, y_off, z_off = offsetV + lclV\n",
    "    shift1 = [-x_off, -y_off, -z_off]\n",
    "    x2_off, y2_off, z2_off = - 0.5 * scan_sz_V\n",
    "    shift2 = [-x2_off, -y2_off, -z2_off]\n",
    "    print('shift1: ', shift1)\n",
    "    print('shift2: ', shift2)\n",
    "    writeVtkPolypoints(fname, allLocL, shift1=shift1, shift2=shift2, sig=[1.0, -1.0, 1.0])\n",
    "\n",
    "def test_blk_calcs(blockOffset, scanStartTpl, scanSzTpl):\n",
    "    scan_sz_V = np.asarray(scanSzTpl)\n",
    "    scan_start_V = np.asarray(scanStartTpl)\n",
    "    scan_ctr_V = scan_start_V + 0.5 * scan_sz_V\n",
    "    #ctrCoords = np.asarray(infoD['realCoords'])\n",
    "    offset_V = np.asarray([int(np.floor(v)) for v in [fishCoreXOffset, fishCoreYOffset, fishCoreZOffset]])\n",
    "    print('offset_V: ', offset_V)\n",
    "    offset_V += np.asarray([0, 0, blockOffset//(fishCoreXSize * fishCoreYSize)])\n",
    "    print('corrected offset_V: ', offset_V)\n",
    "    real_start_V = scan_start_V + offset_V\n",
    "    print('real_start_V: ', real_start_V)\n",
    "    write_blk_verts_vtk(os.path.join(output_root, 'test_verts.vtk'),\n",
    "                        real_start_V, real_start_V + scan_sz_V, usefulVtxDict,\n",
    "                        offset_V)\n",
    "\n",
    "test_blk_calcs(2621440000, (384,384,32), (448,320, 128))"
   ]
  },
  {
   "cell_type": "code",
   "execution_count": null,
   "metadata": {},
   "outputs": [],
   "source": [
    "test_calcs(4901045)\n",
    "#test_calcs(994, empty=True)\n",
    "#test_calcs(983792)\n",
    "#test_calcs(2453393)\n",
    "  "
   ]
  },
  {
   "cell_type": "code",
   "execution_count": null,
   "metadata": {},
   "outputs": [],
   "source": [
    "test_blk_calcs()"
   ]
  },
  {
   "cell_type": "markdown",
   "metadata": {},
   "source": [
    "```\n",
    "'absCoords': [4635.3, 1936.44, 5321.0], \n",
    "'realCoords': [4635.3, 1936.44, 5285.0],\n",
    "--data_block_dims=1024,1024,1024\n",
    "--data_block_offset=536870912\n",
    "--scan_start=377,278,753\n",
    "--scan_size=41,41,41\n",
    "WRITING DATA TO: /home/welling/git/tensorflow_apps/src/joel/test_1010391\n",
    "192 nearby verts, 20 in same object\n",
    "```"
   ]
  },
  {
   "cell_type": "code",
   "execution_count": null,
   "metadata": {},
   "outputs": [],
   "source": [
    "help(UsefulVtx)"
   ]
  },
  {
   "cell_type": "code",
   "execution_count": null,
   "metadata": {},
   "outputs": [],
   "source": [
    "write_all_verts_vtk('/tmp/junk/try.vtk', None, [4871.0, 2174.5,4158.0], usefulVtxDict, spT, scan_sz_V, [4238, 1638, 6500])"
   ]
  },
  {
   "cell_type": "markdown",
   "metadata": {},
   "source": [
    "```python\n",
    "\n",
    "observedCoords=[249,152.5, 126]\n",
    "vtxId=4901045\n",
    "realCoords=[4870.76, 2189.5, 6658.0]\n",
    "\n",
    "\n",
    "offset_V:  [4238 1638 4000]\n",
    "corrected offset_V:  [4238 1638 6500]\n",
    "real_start_V:  [4622 2022 6532]\n",
    "llfCoords:  [4622 2022 6532]\n",
    "trbCoords:  [5070 2342 6660]\n",
    "offsetV:  [4238 1638 6500]\n",
    "lclV: [608. 544.  96.]\n",
    "including 8672 points\n",
    "shift1:  [-4846.0, -2182.0, -6596.0]\n",
    "shift2:  [224.0, 160.0, 64.0]\n",
    "    \n",
    "    blockGen = BlockGenerator(rMax, edgeLen, maxL, \n",
    "                              fakeVtxDict, fishCoreFile,\n",
    "                              fishCoreXSize, fishCoreYSize, fishCoreZSize,\n",
    "                              baseName=baseName)\n",
    "\n",
    "                blockGen.writeBlock(sampleId, \n",
    "                                    {'xOffset': fishCoreXOffset,\n",
    "                                     'yOffset': fishCoreYOffset,\n",
    "                                     'zOffset': fishCoreZOffset})\n",
    "\n",
    "        self.sampler = ArraySampler(edgeLen, fishCoreFile,\n",
    "                                    fishCoreXSize, fishCoreYSize,\n",
    "                                    fishCoreZSize)\n",
    "\n",
    "        grabBlock(sampleVtx, self.usefulVtxDict, self.sampler,\n",
    "                  self.transformer, self.rMax, self.edgeLen,\n",
    "                  self.maxL, sampLocInfo['xOffset'],\n",
    "                  sampLocInfo['yOffset'], sampLocInfo['zOffset'],\n",
    "                  baseName=self.baseName)\n",
    "\n",
    "    xLoc = sampleVtx.x\n",
    "    yLoc = sampleVtx.y\n",
    "    zLoc = sampleVtx.z\n",
    "    dCube = sampler.sample({'xLoc': xLoc, 'yLoc': yLoc, 'zLoc': zLoc,\n",
    "                            'xOffset': xOffset, \n",
    "                            'yOffset': yOffset,\n",
    "                            'zOffset': zOffset})\n",
    "    writeBOV(bovBaseName, dCube, 1.0, 1.0, 1.0, sig=(1.0, -1.0, 1.0))\n",
    "\n",
    "    if sig[0] < 0:\n",
    "        data = data[::-1, :, :]\n",
    "    if sig[1] < 0:\n",
    "        data = data[:, ::-1, :]\n",
    "    if sig[2] < 0:\n",
    "        data = data[:, :, ::-1]\n",
    "    np.ravel(data, order='F').tofile(fnameRoot + ext)\n",
    "\n",
    "\n",
    "```"
   ]
  },
  {
   "cell_type": "code",
   "execution_count": null,
   "metadata": {},
   "outputs": [],
   "source": [
    "def backCalc(observedCoords):\n",
    "    oX, oY, oZ = observedCoords\n",
    "    scanStart, scanSz = (384,384,32), (448,320, 128)\n",
    "    offset_V = [4238, 1638, 6500] # corrected\n",
    "    real_start_V =  [4622, 2022, 6532]\n",
    "    llfCoords =  [4622, 2022, 6532]\n",
    "    trbCoords = [5070, 2342, 6660]\n",
    "    offsetV = [4238, 1638, 6500]\n",
    "    \n",
    "    gblX = oX + llfCoords[0]\n",
    "    gblY = (scanSz[1] - oY) + llfCoords[1]\n",
    "    gblZ = oZ + llfCoords[2]\n",
    "    return (gblX, gblY, gblZ)\n",
    "\n",
    "    #lclV: [608. 544.  96.]\n",
    "    #including 8672 points\n",
    "    #shift1:  [-4846.0, -2182.0, -6596.0]\n",
    "    #shift2:  [224.0, 160.0, 64.0]\n",
    "    \n",
    "observedCoords=[249,152.5, 126]\n",
    "vtxId=4901045\n",
    "realCoords=[4870.76, 2189.5, 6658.0]\n",
    "print(backCalc(observedCoords))\n"
   ]
  },
  {
   "cell_type": "code",
   "execution_count": null,
   "metadata": {},
   "outputs": [],
   "source": [
    "errantDF = pd.read_csv('errant_empty_points.csv')"
   ]
  },
  {
   "cell_type": "code",
   "execution_count": null,
   "metadata": {},
   "outputs": [],
   "source": [
    "errantGlobalCoordL = []\n",
    "for idx, rec in errantDF.iterrows():\n",
    "    errantGlobalCoordL.append(backCalc((rec.x, rec.y, rec.z)))\n",
    "with open('errant_empty_locs.pkl', 'wb') as f:\n",
    "    pickle.dump(errantGlobalCoordL, f)"
   ]
  },
  {
   "cell_type": "code",
   "execution_count": null,
   "metadata": {},
   "outputs": [],
   "source": []
  }
 ],
 "metadata": {
  "kernelspec": {
   "display_name": "Python 3 (py3Env)",
   "language": "python",
   "name": "py3env"
  },
  "language_info": {
   "codemirror_mode": {
    "name": "ipython",
    "version": 3
   },
   "file_extension": ".py",
   "mimetype": "text/x-python",
   "name": "python",
   "nbconvert_exporter": "python",
   "pygments_lexer": "ipython3",
   "version": "3.7.3"
  }
 },
 "nbformat": 4,
 "nbformat_minor": 2
}

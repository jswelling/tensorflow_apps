{
 "cells": [
  {
   "cell_type": "code",
   "execution_count": null,
   "metadata": {},
   "outputs": [],
   "source": [
    "import os\n",
    "import glob\n",
    "import numpy as np\n",
    "import matplotlib.pyplot as plt\n",
    "from scipy.ndimage.morphology import *"
   ]
  },
  {
   "cell_type": "code",
   "execution_count": null,
   "metadata": {},
   "outputs": [],
   "source": [
    "def writeBOV(fname_base, byte_blk, var_name):\n",
    "    reorder_array(byte_blk).tofile(fname_base+'.bytes')\n",
    "    scan_sz = byte_blk.shape\n",
    "    with open(fname_base + '.bov', 'w') as f:\n",
    "        f.write(\"TIME: 0\\n\")\n",
    "        f.write(\"DATA_FILE: %s\\n\" % (fname_base + '.bytes'))\n",
    "        f.write(\"DATA_SIZE: %d %d %d\\n\" % (scan_sz[0], scan_sz[1], scan_sz[2]))\n",
    "        f.write(\"DATA_FORMAT: BYTE\\n\")\n",
    "        f.write(\"VARIABLE: %s\\n\" % var_name)\n",
    "        f.write(\"DATA_ENDIAN: LITTLE\\n\")\n",
    "        f.write(\"CENTERING: ZONAL\\n\")\n",
    "        f.write(\"BRICK_ORIGIN: 0.0 0.0 0.0\\n\")\n",
    "#        f.write(\"BRICK_ORIGIN: %f %f %f\\n\" % (float(x_base + 4750), float(y_base + 2150),                                                                     \n",
    "#                                              float(z_start_offset + z_base + 4000)))                                                                         \n",
    "\n",
    "        f.write(\"BRICK_SIZE: %f %f %f\\n\" % (float(scan_sz[0]), float(scan_sz[1]), float(scan_sz[2])))\n"
   ]
  },
  {
   "cell_type": "code",
   "execution_count": null,
   "metadata": {},
   "outputs": [],
   "source": [
    "def reorder_array(blk):\n",
    "    \"\"\"\n",
    "    Operations to flip the array orders to match the original data\n",
    "    samples\n",
    "    \"\"\"\n",
    "    return np.flip(blk.transpose(), 1)\n"
   ]
  },
  {
   "cell_type": "code",
   "execution_count": null,
   "metadata": {},
   "outputs": [],
   "source": [
    "class BlockData(object):\n",
    "    def __init__(self, bovname):\n",
    "        print(bovname)\n",
    "        data_dir = os.path.dirname(bovname)\n",
    "        words = os.path.splitext(os.path.basename(bovname))[0].split('_')\n",
    "        self.grpnm = words[0]\n",
    "        self.offset = np.asarray([int(x) for x in words[2:5]], dtype=np.int)\n",
    "        with open(bovname, 'r') as f:\n",
    "            for line in f.readlines():\n",
    "                key, parm_str = line.split(':')\n",
    "                parms = [elt.strip() for elt in parm_str.split()]\n",
    "                if key == 'DATA_FILE':\n",
    "                    self.data_file = parms[0]\n",
    "                elif key == 'DATA_SIZE':\n",
    "                    self.shape = np.asarray([int(x) for x in parms], dtype=np.int)\n",
    "                elif key == 'VARIABLE':\n",
    "                    self.var = parms[0]\n",
    "                elif key == 'DATA_FORMAT':\n",
    "                    assert len(parms) == 1 and parms[0] == 'BYTE', 'Only byte data is currently supported'\n",
    "                elif key == 'CENTERING':\n",
    "                    assert len(parms) == 1 and parms[0] == 'ZONAL', 'Only zonal data is currently supported'\n",
    "        data = np.fromfile(os.path.join(data_dir, self.data_file),\n",
    "                           dtype=np.uint8).reshape(*self.shape)\n",
    "        \n",
    "        self.data = reorder_array(data)\n",
    "        #self.data = data\n",
    "                    \n",
    "    def __repr__(self):\n",
    "        return \"BlockData<{}({}, {})>\".format(self.var, str(self.offset), str(self.shape))"
   ]
  },
  {
   "cell_type": "code",
   "execution_count": null,
   "metadata": {},
   "outputs": [],
   "source": [
    "predNameL = glob.glob('/home/welling/sshfshook/mastercube*pred*.bov')\n",
    "scannedNameL = glob.glob('/home/welling/sshfshook/mastercube*scanned*.bov')\n"
   ]
  },
  {
   "cell_type": "code",
   "execution_count": null,
   "metadata": {},
   "outputs": [],
   "source": [
    "pred_blks = [BlockData(nm) for nm in predNameL]\n",
    "scanned_blks = [BlockData(nm) for nm in scannedNameL]\n"
   ]
  },
  {
   "cell_type": "code",
   "execution_count": null,
   "metadata": {},
   "outputs": [],
   "source": [
    "def merge_blocks(blks):\n",
    "    llcV = blks[0].offset.copy()\n",
    "    trbV = blks[0].offset.copy() + blks[0].shape.copy()\n",
    "    for blk in pred_blks[1:]:\n",
    "        llcV = np.minimum(llcV, blk.offset)\n",
    "        trbV = np.maximum(trbV, blk.offset + blk.shape)\n",
    "    shape_sz_V = trbV - llcV\n",
    "    #print('llc: ',llcV)\n",
    "    #print('trb: ',trbV)\n",
    "    #print('shape_sz_V', shape_sz_V)\n",
    "    space = np.zeros(shape_sz_V, dtype=np.uint8)\n",
    "    for blk in blks:\n",
    "        local_llcV = blk.offset - llcV\n",
    "        #print('offset: ',blk.offset, 'local_llcV: ', local_llcV)\n",
    "        local_trbV = local_llcV + blk.shape\n",
    "        space[local_llcV[0]:local_trbV[0], local_llcV[1]:local_trbV[1], local_llcV[2]:local_trbV[2]] = blk.data\n",
    "    return space\n",
    "    "
   ]
  },
  {
   "cell_type": "code",
   "execution_count": null,
   "metadata": {},
   "outputs": [],
   "source": [
    "scanned_merged = merge_blocks(scanned_blks)\n",
    "writeBOV('test_scanned', scanned_merged, scanned_blks[0].var)\n",
    "\n",
    "pred_merged = merge_blocks(pred_blks)\n",
    "strct = generate_binary_structure(3, 3)\n",
    "pred_morph = binary_opening(pred_merged, iterations=2)\n",
    "writeBOV('test_pred', pred_morph, pred_blks[0].var)\n"
   ]
  },
  {
   "cell_type": "code",
   "execution_count": null,
   "metadata": {},
   "outputs": [],
   "source": []
  }
 ],
 "metadata": {
  "kernelspec": {
   "display_name": "Python 3 (py3Env)",
   "language": "python",
   "name": "py3env"
  },
  "language_info": {
   "codemirror_mode": {
    "name": "ipython",
    "version": 3
   },
   "file_extension": ".py",
   "mimetype": "text/x-python",
   "name": "python",
   "nbconvert_exporter": "python",
   "pygments_lexer": "ipython3",
   "version": "3.7.3"
  }
 },
 "nbformat": 4,
 "nbformat_minor": 2
}

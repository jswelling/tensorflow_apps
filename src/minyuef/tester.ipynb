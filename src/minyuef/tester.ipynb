{
 "cells": [
  {
   "cell_type": "code",
   "execution_count": 2,
   "metadata": {},
   "outputs": [],
   "source": [
    "from __future__ import absolute_import\n",
    "from __future__ import division\n",
    "from __future__ import print_function\n",
    "\n",
    "import os\n",
    "import re\n",
    "\n",
    "from six.moves import urllib\n",
    "from six.moves import xrange  # pylint: disable=redefined-builtin\n",
    "import tensorflow as tf\n",
    "from tensorflow.python.framework import dtypes"
   ]
  },
  {
   "cell_type": "code",
   "execution_count": 3,
   "metadata": {},
   "outputs": [],
   "source": [
    "tf.enable_eager_execution()"
   ]
  },
  {
   "cell_type": "code",
   "execution_count": 4,
   "metadata": {},
   "outputs": [],
   "source": [
    "# initiate constant \n",
    "N_BALL_SAMPS = 71709\n",
    "OUTERMOST_SPHERE_SHAPE = [49, 97]\n",
    "train_dir = 'test'\n",
    "num_epochs = 1\n",
    "num_expected_examples = 2\n",
    "read_threads = 1"
   ]
  },
  {
   "cell_type": "code",
   "execution_count": 9,
   "metadata": {},
   "outputs": [],
   "source": [
    "def get_data_pairs(train_dir, fake_data=False, shuffle=True, num_epochs=None,\n",
    "                    num_expected_examples=None):\n",
    "\n",
    "    print('get_data_queues: num_epochs =', num_epochs, type(num_epochs))\n",
    "\n",
    "    yamlRE = re.compile(r'.+_.+_[0123456789]+\\.yaml')\n",
    "    featureFList = []\n",
    "    labelFList = []\n",
    "    if not fake_data:\n",
    "        for fn in os.listdir(train_dir):\n",
    "            if yamlRE.match(fn):\n",
    "                words = fn[:-5].split('_')\n",
    "                base = words[0]\n",
    "                idx = int(words[2])\n",
    "                featureFName = os.path.join(train_dir,\n",
    "                                            '%s_rotBallSamp_%d.doubles' % (base, idx))\n",
    "                labelFName = os.path.join(train_dir,\n",
    "                                          '%s_rotEdgeSamp_%d.doubles' % (base, idx))\n",
    "\n",
    "                featureFList.append('%s' % (featureFName))\n",
    "                labelFList.append('%s' % (labelFName))\n",
    "\n",
    "    assert len(featureFList) == num_expected_examples, ('Found %s examples, expected %d'\n",
    "                                                   % (len(featureFList),\n",
    "                                                      num_expected_examples))\n",
    "    assert len(labelFList) == num_expected_examples, ('Found %s examples, expected %d'\n",
    "                                                   % (len(labelFList),\n",
    "                                                      num_expected_examples))\n",
    "    assert len(labelFList) == len(featureFList), ('Found %s labels, expected %s'\n",
    "                                                   % (len(labelFList),\n",
    "                                                      len(featureFList)))\n",
    "\n",
    "    print('get_data_queues: len(featureFList) =', len(featureFList))\n",
    "    print('get_data_queues: featureList[:5] =', featureFList[:5])\n",
    "    print('get_data_queues: labelList[:5] =', labelFList[:5])\n",
    "\n",
    "\n",
    "    ds = tf.data.Dataset.from_tensor_slices((featureFList, labelFList))\n",
    "    \n",
    "    return ds "
   ]
  },
  {
   "cell_type": "code",
   "execution_count": 10,
   "metadata": {},
   "outputs": [],
   "source": [
    "def load_and_preprocess_image(image_path, label_path):\n",
    "    # read and preprocess feature file\n",
    "    fString = tf.read_file(image_path, name='featureReadFile')\n",
    "    fVals = tf.to_float(tf.reshape(tf.decode_raw(fString,\n",
    "                                     dtypes.float64,\n",
    "                                     name='featureDecode'),\n",
    "                                   [N_BALL_SAMPS]),\n",
    "                        name='featureToFloat')\n",
    "    # read and preprocess label file\n",
    "    lString = tf.read_file(label_path, name='labelReadFile')\n",
    "    lVals = tf.to_float(tf.decode_raw(lString, dtypes.float64,\n",
    "                                      name='labelDecode'),\n",
    "                        name='labelToFloat')\n",
    "    # normalize label\n",
    "    nRows, nCols = OUTERMOST_SPHERE_SHAPE\n",
    "    nOuterSphere = nRows * nCols\n",
    "    lVals = tf.cond(tf.less(tf.reduce_max(lVals), 1.0e-12),\n",
    "                    lambda: tf.constant(1.0/float(nOuterSphere),\n",
    "                                        dtype=dtypes.float32,\n",
    "                                        shape=[nOuterSphere]),\n",
    "                    lambda: tf.nn.l2_normalize(lVals, 0))\n",
    "    lVals = tf.reshape(lVals, OUTERMOST_SPHERE_SHAPE)\n",
    "\n",
    "    print('read_pair_of_files: fVals, lVals =', fVals, lVals)\n",
    "\n",
    "    return fVals, lVals"
   ]
  },
  {
   "cell_type": "code",
   "execution_count": 11,
   "metadata": {},
   "outputs": [
    {
     "name": "stdout",
     "output_type": "stream",
     "text": [
      "get_data_queues: num_epochs = 1 <class 'int'>\n",
      "get_data_queues: len(featureFList) = 2\n",
      "get_data_queues: featureList[:5] = ['test/block_rotBallSamp_4137447.doubles', 'test/block_rotBallSamp_3913814.doubles']\n",
      "get_data_queues: labelList[:5] = ['test/block_rotEdgeSamp_4137447.doubles', 'test/block_rotEdgeSamp_3913814.doubles']\n",
      "WARNING:tensorflow:From <ipython-input-10-ae7df2a9efc8>:8: to_float (from tensorflow.python.ops.math_ops) is deprecated and will be removed in a future version.\n",
      "Instructions for updating:\n",
      "Use tf.cast instead.\n",
      "WARNING:tensorflow:From /Users/momonishikyo/Library/Python/3.7/lib/python/site-packages/tensorflow/python/ops/control_flow_ops.py:423: colocate_with (from tensorflow.python.framework.ops) is deprecated and will be removed in a future version.\n",
      "Instructions for updating:\n",
      "Colocations handled automatically by placer.\n",
      "read_pair_of_files: fVals, lVals = Tensor(\"featureToFloat:0\", shape=(71709,), dtype=float32) Tensor(\"Reshape_1:0\", shape=(49, 97), dtype=float32)\n"
     ]
    },
    {
     "data": {
      "text/plain": [
       "<DatasetV1Adapter shapes: ((71709,), (49, 97)), types: (tf.float32, tf.float32)>"
      ]
     },
     "execution_count": 11,
     "metadata": {},
     "output_type": "execute_result"
    }
   ],
   "source": [
    "ds = get_data_pairs(train_dir, shuffle= True, num_epochs=num_epochs,num_expected_examples=num_expected_examples)\n",
    "image_label_ds = ds.map(load_and_preprocess_image)\n",
    "image_label_ds"
   ]
  },
  {
   "cell_type": "code",
   "execution_count": null,
   "metadata": {},
   "outputs": [],
   "source": []
  }
 ],
 "metadata": {
  "kernelspec": {
   "display_name": "Python 3",
   "language": "python",
   "name": "python3"
  },
  "language_info": {
   "codemirror_mode": {
    "name": "ipython",
    "version": 3
   },
   "file_extension": ".py",
   "mimetype": "text/x-python",
   "name": "python",
   "nbconvert_exporter": "python",
   "pygments_lexer": "ipython3",
   "version": "3.7.0"
  }
 },
 "nbformat": 4,
 "nbformat_minor": 2
}
